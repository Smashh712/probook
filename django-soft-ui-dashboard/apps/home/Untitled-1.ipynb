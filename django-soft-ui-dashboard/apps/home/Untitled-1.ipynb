{
 "cells": [
  {
   "cell_type": "code",
   "execution_count": 29,
   "metadata": {},
   "outputs": [],
   "source": [
    "import requests\n",
    "import xmltodict"
   ]
  },
  {
   "cell_type": "code",
   "execution_count": 21,
   "metadata": {},
   "outputs": [],
   "source": [
    "test = requests.get(\"http://www.aladin.co.kr/ttb/api/ItemList.aspx?ttbkey=ttbmlboy101516001&QueryType=ItemNewAll&MaxResults=10&start=1&SearchTarget=Book&CategoryId=437&output=xml&Version=20131101\")\n",
    "xml = xmltodict.parse(test.text)\n",
    "xml['object']['item'][1]"
   ]
  },
  {
   "cell_type": "code",
   "execution_count": 30,
   "metadata": {},
   "outputs": [],
   "source": []
  },
  {
   "cell_type": "code",
   "execution_count": 36,
   "metadata": {},
   "outputs": [
    {
     "data": {
      "text/plain": [
       "OrderedDict([('@itemId', '284706453'),\n",
       "             ('title', '금융 전략을 위한 머신러닝 - 19가지 사례를 통해 익히는 금융 전략, 머신러닝, 데이터 과학'),\n",
       "             ('link',\n",
       "              'http://www.aladin.co.kr/shop/wproduct.aspx?ItemId=284706453&partner=openAPI&start=api'),\n",
       "             ('author', '하리옴 탓샛, 사힐 푸리, 브래드 루카보 (지은이), 김한상 (옮긴이)'),\n",
       "             ('pubDate', '2021-12-27'),\n",
       "             ('description', None),\n",
       "             ('isbn', 'K492835927'),\n",
       "             ('isbn13', '9791162245002'),\n",
       "             ('priceSales', '31500'),\n",
       "             ('priceStandard', '35000'),\n",
       "             ('mallType', 'BOOK'),\n",
       "             ('stockStatus', '예약판매'),\n",
       "             ('mileage', '1750'),\n",
       "             ('cover',\n",
       "              'https://image.aladin.co.kr/product/28470/64/coversum/k492835927_1.jpg'),\n",
       "             ('categoryId', '6794'),\n",
       "             ('categoryName', '국내도서>컴퓨터/모바일>컴퓨터 공학>데이터베이스 개론'),\n",
       "             ('publisher', '한빛미디어'),\n",
       "             ('salesPoint', '0'),\n",
       "             ('adult', 'false'),\n",
       "             ('fixedPrice', 'true'),\n",
       "             ('customerReviewRank', '0'),\n",
       "             ('subInfo', None)])"
      ]
     },
     "execution_count": 36,
     "metadata": {},
     "output_type": "execute_result"
    }
   ],
   "source": []
  },
  {
   "cell_type": "code",
   "execution_count": null,
   "metadata": {},
   "outputs": [],
   "source": []
  }
 ],
 "metadata": {
  "interpreter": {
   "hash": "6d46af94c2bbce495f1e668725902fa517c90b1782bcfe2fce0dd9868df553d3"
  },
  "kernelspec": {
   "display_name": "Python 3.8.5 64-bit ('base': conda)",
   "language": "python",
   "name": "python3"
  },
  "language_info": {
   "codemirror_mode": {
    "name": "ipython",
    "version": 3
   },
   "file_extension": ".py",
   "mimetype": "text/x-python",
   "name": "python",
   "nbconvert_exporter": "python",
   "pygments_lexer": "ipython3",
   "version": "3.8.5"
  },
  "orig_nbformat": 4
 },
 "nbformat": 4,
 "nbformat_minor": 2
}
