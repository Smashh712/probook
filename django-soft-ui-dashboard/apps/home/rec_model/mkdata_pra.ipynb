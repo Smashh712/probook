{
 "cells": [
  {
   "cell_type": "code",
   "execution_count": null,
   "metadata": {},
   "outputs": [],
   "source": [
    "import requests\n",
    "import xmltodict\n",
    "import json"
   ]
  },
  {
   "cell_type": "code",
   "execution_count": null,
   "metadata": {},
   "outputs": [],
   "source": [
    "booklist_id = []\n",
    "booklist_name = []"
   ]
  },
  {
   "cell_type": "code",
   "execution_count": null,
   "metadata": {},
   "outputs": [],
   "source": [
    "search_list = ['파이썬', '리엑트', '웹', '프론트엔드', '백엔드', '자바', '자바스크립트',\n",
    "'C언어', 'C++', 'node.js', '앱 프로그래밍', '자료 구조', '컴퓨터 구조', '알고리즘',\n",
    "'HTML', 'CSS', '안드로이드 프로그래밍', 'TCP/IP', 'R 프로그래밍', 'PHP', '코틀린', '프로그래밍',\n",
    "'c#', 'GO 언어']"
   ]
  },
  {
   "cell_type": "code",
   "execution_count": null,
   "metadata": {},
   "outputs": [],
   "source": [
    "for a in search_list:\n",
    "    for i in range(1,6):\n",
    "        r = requests.get(f\"https://aladin.co.kr/ttb/api/ItemSearch.aspx?ttbkey=ttbmlboy101516001&Query={a}&QueryType=Keyword&MaxResults=10&start={i}&SearchTarget=Book&output=xml&Version=20070901&Sort=Accuracy\")\n",
    "        \n",
    "        print(a)\n",
    "\n",
    "        cc = xmltodict.parse(r.text) # return collections.OrderedDict\n",
    "        dd = json.loads(json.dumps(cc)) # return dict\n",
    "        if \"item\" in dd[\"object\"]:\n",
    "            for i in range(len(dd[\"object\"][\"item\"])):\n",
    "                booklist_id.append(dd[\"object\"][\"item\"][i][\"@itemId\"])\n",
    "                booklist_name.append(dd[\"object\"][\"item\"][i][\"title\"])"
   ]
  },
  {
   "cell_type": "code",
   "execution_count": null,
   "metadata": {},
   "outputs": [],
   "source": [
    "dictbo = dict.fromkeys(booklist_id, booklist_name)"
   ]
  },
  {
   "cell_type": "code",
   "execution_count": null,
   "metadata": {},
   "outputs": [],
   "source": [
    "dictbo"
   ]
  },
  {
   "cell_type": "code",
   "execution_count": null,
   "metadata": {},
   "outputs": [],
   "source": [
    "len(booklist_id)"
   ]
  },
  {
   "cell_type": "code",
   "execution_count": null,
   "metadata": {},
   "outputs": [],
   "source": [
    "len(dict.fromkeys(booklist_name))"
   ]
  },
  {
   "cell_type": "code",
   "execution_count": null,
   "metadata": {},
   "outputs": [],
   "source": [
    "len(booklist_name)"
   ]
  },
  {
   "cell_type": "code",
   "execution_count": null,
   "metadata": {},
   "outputs": [],
   "source": [
    "booklist_dict = dict(zip(booklist_id, booklist_name))\n",
    "\n",
    "seen = []\n",
    "result = dict()\n",
    "for key, val in booklist_dict.items():\n",
    "    if key not in seen:\n",
    "        seen.append(key)\n",
    "        result[key] = val\n",
    "\n",
    "print(len(booklist_id))\n",
    "print(len(booklist_name))\n",
    "print(len(booklist_dict))"
   ]
  },
  {
   "cell_type": "code",
   "execution_count": null,
   "metadata": {},
   "outputs": [],
   "source": [
    "print(len(booklist))"
   ]
  },
  {
   "cell_type": "code",
   "execution_count": null,
   "metadata": {},
   "outputs": [],
   "source": [
    "from scipy import spatial\n",
    "\n",
    "dataSet1 = [5, 5, -4, 0, 0]\n",
    "dataSet2 = [5, 5, 5, 5, 0\n",
    "dataSet3 = [5, 5, 0, 0, 0]\n",
    "result = 1 - spatial.distance.cosine(dataSet1, dataSet2)\n",
    "result2 = 1 - spatial.distance.cosine(dataSet3, dataSet2)\n",
    "\n",
    "print(result, result2)\n"
   ]
  },
  {
   "cell_type": "code",
   "execution_count": null,
   "metadata": {},
   "outputs": [],
   "source": [
    "booklist_dict"
   ]
  },
  {
   "cell_type": "code",
   "execution_count": null,
   "metadata": {},
   "outputs": [],
   "source": [
    "f = open('C:/Users/user/Desktop/JIONI/4학년 1학기/산학프로젝트/probook/data/booklist.txt','r', encoding='UTF-8')\n",
    "while True:\n",
    "    line = f.readline()\n",
    "    if not line : break\n",
    "f.close()"
   ]
  },
  {
   "cell_type": "code",
   "execution_count": null,
   "metadata": {},
   "outputs": [],
   "source": [
    "print(line)"
   ]
  },
  {
   "cell_type": "code",
   "execution_count": null,
   "metadata": {},
   "outputs": [],
   "source": [
    "user_id, book_id, score = input(\"사용자 id, 책 id, 평점을 입력해주세요.\\n\").split(',')"
   ]
  },
  {
   "cell_type": "code",
   "execution_count": null,
   "metadata": {},
   "outputs": [],
   "source": [
    "print(user_id)\n",
    "print(book_id)\n",
    "print(score)"
   ]
  },
  {
   "cell_type": "code",
   "execution_count": null,
   "metadata": {},
   "outputs": [],
   "source": [
    "import pandas as pd\n",
    "import numpy as np"
   ]
  },
  {
   "cell_type": "code",
   "execution_count": null,
   "metadata": {},
   "outputs": [],
   "source": [
    "booklist_id = list(booklist_dict)\n",
    "booklist_name = list(booklist_dict.values())"
   ]
  },
  {
   "cell_type": "code",
   "execution_count": null,
   "metadata": {},
   "outputs": [],
   "source": [
    "len(booklist_id)"
   ]
  },
  {
   "cell_type": "code",
   "execution_count": null,
   "metadata": {},
   "outputs": [],
   "source": [
    "book_dict = {\n",
    "    'book_id':booklist_id,\n",
    "    'book_name':booklist_name\n",
    "}\n",
    "book_df = pd.DataFrame(index=booklist_id)"
   ]
  },
  {
   "cell_type": "code",
   "execution_count": null,
   "metadata": {},
   "outputs": [],
   "source": [
    "book_df"
   ]
  },
  {
   "cell_type": "code",
   "execution_count": null,
   "metadata": {},
   "outputs": [],
   "source": [
    "book_df.insert(1,user_id,0)"
   ]
  },
  {
   "cell_type": "code",
   "execution_count": null,
   "metadata": {},
   "outputs": [],
   "source": [
    "for j in range(len(book_df)):\n",
    "    if book_id == book_df.index[j]:\n",
    "        book_df.iloc[j,1] = score"
   ]
  },
  {
   "cell_type": "code",
   "execution_count": null,
   "metadata": {},
   "outputs": [],
   "source": [
    "book_df"
   ]
  }
 ],
 "metadata": {
  "interpreter": {
   "hash": "6d46af94c2bbce495f1e668725902fa517c90b1782bcfe2fce0dd9868df553d3"
  },
  "kernelspec": {
   "display_name": "Python 3.8.3 64-bit ('base': conda)",
   "language": "python",
   "name": "python3"
  },
  "language_info": {
   "name": "python",
   "version": "3.8.3"
  },
  "orig_nbformat": 4
 },
 "nbformat": 4,
 "nbformat_minor": 2
}
